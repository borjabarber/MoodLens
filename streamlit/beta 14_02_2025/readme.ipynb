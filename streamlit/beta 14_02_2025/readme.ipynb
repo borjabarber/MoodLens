{
 "cells": [
  {
   "cell_type": "markdown",
   "metadata": {},
   "source": [
    "# MOODLENS\n",
    "\n",
    "Este proyecto utiliza una red neuronal convolucional (CNN) entrenada para detectar emociones a partir de imágenes faciales. La aplicación fue construida utilizando **Streamlit** y **TensorFlow**.\n",
    "\n",
    "## Requisitos\n",
    "\n",
    "- Python 3.x\n",
    "- streamlit\n",
    "- tensorflow\n",
    "- opencv-python-headless\n",
    "- numpy\n",
    "\n",
    "## Instalación\n",
    "\n",
    "Para ejecutar este proyecto en tu máquina local, sigue estos pasos:\n",
    "\n",
    "1. Clona el repositorio:\n",
    "\n",
    "    ```bash\n",
    "    git clone https://github.com/borjabarber/moodlens.git\n",
    "    ```\n",
    "\n",
    "2. Instala las dependencias:\n",
    "\n",
    "    ```bash\n",
    "    pip install -r requirements.txt\n",
    "    ```\n",
    "\n",
    "3. Ejecuta la aplicación:\n",
    "\n",
    "    ```bash\n",
    "    streamlit run app.py\n",
    "    ```\n",
    "\n",
    "## Cómo usar\n",
    "\n",
    "1. Sube una imagen en formato `jpg`, `jpeg`, o `png`.\n",
    "2. La aplicación detectará las emociones en los rostros presentes en la imagen.\n",
    "3. Se mostrará el resultado con un rectángulo alrededor de los rostros y la emoción detectada.\n"
   ]
  },
  {
   "cell_type": "markdown",
   "metadata": {},
   "source": []
  }
 ],
 "metadata": {
  "language_info": {
   "name": "python"
  }
 },
 "nbformat": 4,
 "nbformat_minor": 2
}
