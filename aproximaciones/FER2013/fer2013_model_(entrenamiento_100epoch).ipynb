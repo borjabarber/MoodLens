{
 "cells": [
  {
   "cell_type": "markdown",
   "metadata": {},
   "source": [
    "### Fer2013 data set \n",
    "[Dataset Kaggle](https://www.kaggle.com/datasets/deadskull7/fer2013/data)"
   ]
  },
  {
   "cell_type": "code",
   "execution_count": 1,
   "metadata": {},
   "outputs": [],
   "source": [
    "import pandas as pd\n",
    "import numpy as np\n",
    "from matplotlib import pyplot as plt\n",
    "%matplotlib inline\n",
    "import os\n",
    "from keras.layers import Dense, Convolution2D, UpSampling2D, MaxPooling2D, ZeroPadding2D, Flatten, Dropout, Reshape\n",
    "from keras.models import Sequential\n",
    "from keras.utils import to_categorical\n"
   ]
  },
  {
   "cell_type": "markdown",
   "metadata": {},
   "source": [
    "### Analisis y estudio"
   ]
  },
  {
   "cell_type": "code",
   "execution_count": 2,
   "metadata": {},
   "outputs": [],
   "source": [
    "x = pd.read_csv('./data/fer2013.csv')"
   ]
  },
  {
   "cell_type": "code",
   "execution_count": 3,
   "metadata": {},
   "outputs": [
    {
     "name": "stdout",
     "output_type": "stream",
     "text": [
      "<class 'pandas.core.frame.DataFrame'>\n",
      "RangeIndex: 35887 entries, 0 to 35886\n",
      "Data columns (total 3 columns):\n",
      " #   Column   Non-Null Count  Dtype \n",
      "---  ------   --------------  ----- \n",
      " 0   emotion  35887 non-null  int64 \n",
      " 1   pixels   35887 non-null  object\n",
      " 2   Usage    35887 non-null  object\n",
      "dtypes: int64(1), object(2)\n",
      "memory usage: 841.2+ KB\n"
     ]
    }
   ],
   "source": [
    "x.info()"
   ]
  },
  {
   "cell_type": "code",
   "execution_count": 4,
   "metadata": {},
   "outputs": [
    {
     "data": {
      "text/plain": [
       "(35887, 3)"
      ]
     },
     "execution_count": 4,
     "metadata": {},
     "output_type": "execute_result"
    }
   ],
   "source": [
    "x.shape"
   ]
  },
  {
   "cell_type": "code",
   "execution_count": 5,
   "metadata": {},
   "outputs": [
    {
     "data": {
      "text/html": [
       "<div>\n",
       "<style scoped>\n",
       "    .dataframe tbody tr th:only-of-type {\n",
       "        vertical-align: middle;\n",
       "    }\n",
       "\n",
       "    .dataframe tbody tr th {\n",
       "        vertical-align: top;\n",
       "    }\n",
       "\n",
       "    .dataframe thead th {\n",
       "        text-align: right;\n",
       "    }\n",
       "</style>\n",
       "<table border=\"1\" class=\"dataframe\">\n",
       "  <thead>\n",
       "    <tr style=\"text-align: right;\">\n",
       "      <th></th>\n",
       "      <th>emotion</th>\n",
       "      <th>pixels</th>\n",
       "      <th>Usage</th>\n",
       "    </tr>\n",
       "  </thead>\n",
       "  <tbody>\n",
       "    <tr>\n",
       "      <th>0</th>\n",
       "      <td>0</td>\n",
       "      <td>70 80 82 72 58 58 60 63 54 58 60 48 89 115 121...</td>\n",
       "      <td>Training</td>\n",
       "    </tr>\n",
       "    <tr>\n",
       "      <th>1</th>\n",
       "      <td>0</td>\n",
       "      <td>151 150 147 155 148 133 111 140 170 174 182 15...</td>\n",
       "      <td>Training</td>\n",
       "    </tr>\n",
       "    <tr>\n",
       "      <th>2</th>\n",
       "      <td>2</td>\n",
       "      <td>231 212 156 164 174 138 161 173 182 200 106 38...</td>\n",
       "      <td>Training</td>\n",
       "    </tr>\n",
       "    <tr>\n",
       "      <th>3</th>\n",
       "      <td>4</td>\n",
       "      <td>24 32 36 30 32 23 19 20 30 41 21 22 32 34 21 1...</td>\n",
       "      <td>Training</td>\n",
       "    </tr>\n",
       "    <tr>\n",
       "      <th>4</th>\n",
       "      <td>6</td>\n",
       "      <td>4 0 0 0 0 0 0 0 0 0 0 0 3 15 23 28 48 50 58 84...</td>\n",
       "      <td>Training</td>\n",
       "    </tr>\n",
       "  </tbody>\n",
       "</table>\n",
       "</div>"
      ],
      "text/plain": [
       "   emotion                                             pixels     Usage\n",
       "0        0  70 80 82 72 58 58 60 63 54 58 60 48 89 115 121...  Training\n",
       "1        0  151 150 147 155 148 133 111 140 170 174 182 15...  Training\n",
       "2        2  231 212 156 164 174 138 161 173 182 200 106 38...  Training\n",
       "3        4  24 32 36 30 32 23 19 20 30 41 21 22 32 34 21 1...  Training\n",
       "4        6  4 0 0 0 0 0 0 0 0 0 0 0 3 15 23 28 48 50 58 84...  Training"
      ]
     },
     "execution_count": 5,
     "metadata": {},
     "output_type": "execute_result"
    }
   ],
   "source": [
    "x.head()"
   ]
  },
  {
   "cell_type": "code",
   "execution_count": 6,
   "metadata": {},
   "outputs": [
    {
     "data": {
      "text/html": [
       "<div>\n",
       "<style scoped>\n",
       "    .dataframe tbody tr th:only-of-type {\n",
       "        vertical-align: middle;\n",
       "    }\n",
       "\n",
       "    .dataframe tbody tr th {\n",
       "        vertical-align: top;\n",
       "    }\n",
       "\n",
       "    .dataframe thead th {\n",
       "        text-align: right;\n",
       "    }\n",
       "</style>\n",
       "<table border=\"1\" class=\"dataframe\">\n",
       "  <thead>\n",
       "    <tr style=\"text-align: right;\">\n",
       "      <th></th>\n",
       "      <th>emotion</th>\n",
       "      <th>pixels</th>\n",
       "      <th>Usage</th>\n",
       "    </tr>\n",
       "  </thead>\n",
       "  <tbody>\n",
       "    <tr>\n",
       "      <th>35882</th>\n",
       "      <td>6</td>\n",
       "      <td>50 36 17 22 23 29 33 39 34 37 37 37 39 43 48 5...</td>\n",
       "      <td>PrivateTest</td>\n",
       "    </tr>\n",
       "    <tr>\n",
       "      <th>35883</th>\n",
       "      <td>3</td>\n",
       "      <td>178 174 172 173 181 188 191 194 196 199 200 20...</td>\n",
       "      <td>PrivateTest</td>\n",
       "    </tr>\n",
       "    <tr>\n",
       "      <th>35884</th>\n",
       "      <td>0</td>\n",
       "      <td>17 17 16 23 28 22 19 17 25 26 20 24 31 19 27 9...</td>\n",
       "      <td>PrivateTest</td>\n",
       "    </tr>\n",
       "    <tr>\n",
       "      <th>35885</th>\n",
       "      <td>3</td>\n",
       "      <td>30 28 28 29 31 30 42 68 79 81 77 67 67 71 63 6...</td>\n",
       "      <td>PrivateTest</td>\n",
       "    </tr>\n",
       "    <tr>\n",
       "      <th>35886</th>\n",
       "      <td>2</td>\n",
       "      <td>19 13 14 12 13 16 21 33 50 57 71 84 97 108 122...</td>\n",
       "      <td>PrivateTest</td>\n",
       "    </tr>\n",
       "  </tbody>\n",
       "</table>\n",
       "</div>"
      ],
      "text/plain": [
       "       emotion                                             pixels        Usage\n",
       "35882        6  50 36 17 22 23 29 33 39 34 37 37 37 39 43 48 5...  PrivateTest\n",
       "35883        3  178 174 172 173 181 188 191 194 196 199 200 20...  PrivateTest\n",
       "35884        0  17 17 16 23 28 22 19 17 25 26 20 24 31 19 27 9...  PrivateTest\n",
       "35885        3  30 28 28 29 31 30 42 68 79 81 77 67 67 71 63 6...  PrivateTest\n",
       "35886        2  19 13 14 12 13 16 21 33 50 57 71 84 97 108 122...  PrivateTest"
      ]
     },
     "execution_count": 6,
     "metadata": {},
     "output_type": "execute_result"
    }
   ],
   "source": [
    "x.tail()"
   ]
  },
  {
   "cell_type": "markdown",
   "metadata": {},
   "source": [
    "### Prepocesado y separación de datos"
   ]
  },
  {
   "cell_type": "code",
   "execution_count": 7,
   "metadata": {},
   "outputs": [
    {
     "name": "stdout",
     "output_type": "stream",
     "text": [
      "(35887, 3)\n",
      "0\n"
     ]
    }
   ],
   "source": [
    "data = x.values\n",
    "print (data.shape)\n",
    "print (data[0, 0])"
   ]
  },
  {
   "cell_type": "code",
   "execution_count": 8,
   "metadata": {},
   "outputs": [
    {
     "name": "stdout",
     "output_type": "stream",
     "text": [
      "<class 'numpy.ndarray'>\n",
      "8287\n",
      "3\n"
     ]
    }
   ],
   "source": [
    "y = data[:, 0]\n",
    "pixels = data[:, 1]\n",
    "print (type(pixels))\n",
    "print (len(pixels[0]))\n",
    "print (pixels[10][10])"
   ]
  },
  {
   "cell_type": "code",
   "execution_count": 9,
   "metadata": {},
   "outputs": [],
   "source": [
    "x = np.array([list(map(int, pixels[ix].split())) for ix in range(pixels.shape[0])])\n",
    "\n"
   ]
  },
  {
   "cell_type": "code",
   "execution_count": 10,
   "metadata": {},
   "outputs": [
    {
     "data": {
      "text/plain": [
       "array([[ 70,  80,  82, ..., 106, 109,  82],\n",
       "       [151, 150, 147, ..., 193, 183, 184],\n",
       "       [231, 212, 156, ...,  88, 110, 152],\n",
       "       ...,\n",
       "       [ 17,  17,  16, ..., 154, 133, 113],\n",
       "       [ 30,  28,  28, ...,  35,  30,  28],\n",
       "       [ 19,  13,  14, ..., 189, 199, 201]])"
      ]
     },
     "execution_count": 10,
     "metadata": {},
     "output_type": "execute_result"
    }
   ],
   "source": [
    "x"
   ]
  },
  {
   "cell_type": "code",
   "execution_count": 11,
   "metadata": {},
   "outputs": [
    {
     "data": {
      "text/plain": [
       "array([0, 0, 2, ..., 0, 3, 2], dtype=object)"
      ]
     },
     "execution_count": 11,
     "metadata": {},
     "output_type": "execute_result"
    }
   ],
   "source": [
    "y"
   ]
  },
  {
   "cell_type": "code",
   "execution_count": 12,
   "metadata": {},
   "outputs": [
    {
     "data": {
      "image/png": "[encoded data removed]",
      "text/plain": [
       "<Figure size 640x480 with 1 Axes>"
      ]
     },
     "metadata": {},
     "output_type": "display_data"
    },
    {
     "data": {
      "image/png": "[encoded data removed]",
      "text/plain": [
       "<Figure size 640x480 with 1 Axes>"
      ]
     },
     "metadata": {},
     "output_type": "display_data"
    },
    {
     "data": {
      "image/png": "[encoded data removed]",
      "text/plain": [
       "<Figure size 640x480 with 1 Axes>"
      ]
     },
     "metadata": {},
     "output_type": "display_data"
    },
    {
     "data": {
      "image/png": "[encoded data removed]",
      "text/plain": [
       "<Figure size 640x480 with 1 Axes>"
      ]
     },
     "metadata": {},
     "output_type": "display_data"
    }
   ],
   "source": [
    "for ix in range(4):\n",
    "    plt.figure(ix)\n",
    "    plt.imshow(x[ix].reshape((48, 48)), interpolation='none', cmap='gray')\n",
    "plt.show()"
   ]
  },
  {
   "cell_type": "code",
   "execution_count": 13,
   "metadata": {},
   "outputs": [
    {
     "data": {
      "text/plain": [
       "array([[0.2745098 , 0.31372549, 0.32156863, ..., 0.41568627, 0.42745098,\n",
       "        0.32156863],\n",
       "       [0.59215686, 0.58823529, 0.57647059, ..., 0.75686275, 0.71764706,\n",
       "        0.72156863],\n",
       "       [0.90588235, 0.83137255, 0.61176471, ..., 0.34509804, 0.43137255,\n",
       "        0.59607843],\n",
       "       ...,\n",
       "       [0.06666667, 0.06666667, 0.0627451 , ..., 0.60392157, 0.52156863,\n",
       "        0.44313725],\n",
       "       [0.11764706, 0.10980392, 0.10980392, ..., 0.1372549 , 0.11764706,\n",
       "        0.10980392],\n",
       "       [0.0745098 , 0.05098039, 0.05490196, ..., 0.74117647, 0.78039216,\n",
       "        0.78823529]])"
      ]
     },
     "execution_count": 13,
     "metadata": {},
     "output_type": "execute_result"
    }
   ],
   "source": [
    "x = x / 255\n",
    "x"
   ]
  },
  {
   "cell_type": "code",
   "execution_count": 14,
   "metadata": {},
   "outputs": [
    {
     "name": "stdout",
     "output_type": "stream",
     "text": [
      "(28710, 2304) (28710,)\n",
      "(3590, 2304) (3590,)\n"
     ]
    }
   ],
   "source": [
    "X_train = x[0:28710, :]\n",
    "Y_train = y[0:28710]\n",
    "print (X_train.shape, Y_train.shape)\n",
    "X_crossval = x[28710:32300, :]\n",
    "Y_crossval = y[28710:32300]\n",
    "print (X_crossval.shape, Y_crossval.shape)"
   ]
  },
  {
   "cell_type": "code",
   "execution_count": 15,
   "metadata": {},
   "outputs": [],
   "source": [
    "X_train = X_train.reshape((X_train.shape[0], 1 , 48, 48 ))\n",
    "X_crossval = X_crossval.reshape((X_crossval.shape[0], 1 ,48, 48))"
   ]
  },
  {
   "cell_type": "code",
   "execution_count": 16,
   "metadata": {},
   "outputs": [
    {
     "data": {
      "text/plain": [
       "(28710, 1, 48, 48)"
      ]
     },
     "execution_count": 16,
     "metadata": {},
     "output_type": "execute_result"
    }
   ],
   "source": [
    "X_train.shape"
   ]
  },
  {
   "cell_type": "code",
   "execution_count": 17,
   "metadata": {},
   "outputs": [
    {
     "name": "stdout",
     "output_type": "stream",
     "text": [
      "(35887,)\n",
      "(35887, 7)\n"
     ]
    }
   ],
   "source": [
    "from tensorflow.keras.utils import to_categorical\n",
    "print (y.shape)\n",
    "y_ = to_categorical(y, 7)\n",
    "print (y_.shape)"
   ]
  },
  {
   "cell_type": "code",
   "execution_count": 18,
   "metadata": {},
   "outputs": [
    {
     "name": "stdout",
     "output_type": "stream",
     "text": [
      "(3590, 1, 48, 48) (3590, 7)\n"
     ]
    }
   ],
   "source": [
    "Y_train = y_[:28710]\n",
    "Y_crossval = y_[28710:32300]\n",
    "print (X_crossval.shape, Y_crossval.shape)"
   ]
  },
  {
   "cell_type": "markdown",
   "metadata": {},
   "source": [
    "### Entrenamiento "
   ]
  },
  {
   "cell_type": "code",
   "execution_count": 19,
   "metadata": {},
   "outputs": [],
   "source": [
    "X_train = X_train.reshape((X_train.shape[0], 48, 48, 1)) # me da un warning sin esto en algun lugar me equivoque con la separacion."
   ]
  },
  {
   "cell_type": "code",
   "execution_count": 20,
   "metadata": {},
   "outputs": [],
   "source": [
    "from tensorflow.keras.preprocessing.image import ImageDataGenerator\n",
    "\n",
    "datagen = ImageDataGenerator(\n",
    "        featurewise_center=False,  \n",
    "        samplewise_center=False,  \n",
    "        featurewise_std_normalization=False,  \n",
    "        samplewise_std_normalization=False,  \n",
    "        zca_whitening=False,  \n",
    "        rotation_range=10,  \n",
    "        zoom_range = 0.0,  \n",
    "        width_shift_range=0.1,  \n",
    "        height_shift_range=0.1,  \n",
    "        horizontal_flip=False, \n",
    "        vertical_flip=False)  \n",
    "\n",
    "datagen.fit(X_train)"
   ]
  },
  {
   "cell_type": "code",
   "execution_count": 21,
   "metadata": {},
   "outputs": [],
   "source": [
    "from keras.callbacks import ReduceLROnPlateau\n",
    "lr_reduce = ReduceLROnPlateau(monitor='val_acc', factor=0.1, epsilon=0.0001, patience=1, verbose=1)"
   ]
  },
  {
   "cell_type": "code",
   "execution_count": 22,
   "metadata": {},
   "outputs": [],
   "source": [
    "import numpy as np\n",
    "from tensorflow.keras.models import Sequential\n",
    "from tensorflow.keras.layers import Dense, Dropout, Flatten, Conv2D, MaxPooling2D, BatchNormalization\n",
    "from tensorflow.keras.optimizers import SGD, Adam\n",
    "from tensorflow.keras.constraints import max_norm\n",
    "from tensorflow.keras.preprocessing.image import ImageDataGenerator\n",
    "from tensorflow.keras.utils import to_categorical\n",
    "from tensorflow.keras import backend as K\n",
    "\n",
    "\n"
   ]
  },
  {
   "cell_type": "code",
   "execution_count": 23,
   "metadata": {},
   "outputs": [],
   "source": [
    "model = Sequential()\n",
    "batch_size = 128\n",
    "epochs = 100\n",
    "\n",
    "model.compile(loss='binary_crossentropy', optimizer='adam' , metrics=['accuracy'])\n",
    "steps_per_epoch = len(x) // batch_size\n",
    "validation_steps = len((X_crossval, Y_crossval)) // batch_size"
   ]
  },
  {
   "cell_type": "code",
   "execution_count": 25,
   "metadata": {},
   "outputs": [
    {
     "data": {
      "text/html": [
       "<pre style=\"white-space:pre;overflow-x:auto;line-height:normal;font-family:Menlo,'DejaVu Sans Mono',consolas,'Courier New',monospace\"><span style=\"font-weight: bold\">Model: \"sequential_2\"</span>\n",
       "</pre>\n"
      ],
      "text/plain": [
       "\u001b[1mModel: \"sequential_2\"\u001b[0m\n"
      ]
     },
     "metadata": {},
     "output_type": "display_data"
    },
    {
     "data": {
      "text/html": [
       "<pre style=\"white-space:pre;overflow-x:auto;line-height:normal;font-family:Menlo,'DejaVu Sans Mono',consolas,'Courier New',monospace\">┏━━━━━━━━━━━━━━━━━━━━━━━━━━━━━━━━━┳━━━━━━━━━━━━━━━━━━━━━━━━┳━━━━━━━━━━━━━━━┓\n",
       "┃<span style=\"font-weight: bold\"> Layer (type)                    </span>┃<span style=\"font-weight: bold\"> Output Shape           </span>┃<span style=\"font-weight: bold\">       Param # </span>┃\n",
       "┡━━━━━━━━━━━━━━━━━━━━━━━━━━━━━━━━━╇━━━━━━━━━━━━━━━━━━━━━━━━╇━━━━━━━━━━━━━━━┩\n",
       "│ conv2d_8 (<span style=\"color: #0087ff; text-decoration-color: #0087ff\">Conv2D</span>)               │ (<span style=\"color: #00d7ff; text-decoration-color: #00d7ff\">None</span>, <span style=\"color: #00af00; text-decoration-color: #00af00\">48</span>, <span style=\"color: #00af00; text-decoration-color: #00af00\">48</span>, <span style=\"color: #00af00; text-decoration-color: #00af00\">32</span>)     │           <span style=\"color: #00af00; text-decoration-color: #00af00\">320</span> │\n",
       "├─────────────────────────────────┼────────────────────────┼───────────────┤\n",
       "│ conv2d_9 (<span style=\"color: #0087ff; text-decoration-color: #0087ff\">Conv2D</span>)               │ (<span style=\"color: #00d7ff; text-decoration-color: #00d7ff\">None</span>, <span style=\"color: #00af00; text-decoration-color: #00af00\">48</span>, <span style=\"color: #00af00; text-decoration-color: #00af00\">48</span>, <span style=\"color: #00af00; text-decoration-color: #00af00\">32</span>)     │         <span style=\"color: #00af00; text-decoration-color: #00af00\">9,248</span> │\n",
       "├─────────────────────────────────┼────────────────────────┼───────────────┤\n",
       "│ max_pooling2d_4 (<span style=\"color: #0087ff; text-decoration-color: #0087ff\">MaxPooling2D</span>)  │ (<span style=\"color: #00d7ff; text-decoration-color: #00d7ff\">None</span>, <span style=\"color: #00af00; text-decoration-color: #00af00\">24</span>, <span style=\"color: #00af00; text-decoration-color: #00af00\">24</span>, <span style=\"color: #00af00; text-decoration-color: #00af00\">32</span>)     │             <span style=\"color: #00af00; text-decoration-color: #00af00\">0</span> │\n",
       "├─────────────────────────────────┼────────────────────────┼───────────────┤\n",
       "│ conv2d_10 (<span style=\"color: #0087ff; text-decoration-color: #0087ff\">Conv2D</span>)              │ (<span style=\"color: #00d7ff; text-decoration-color: #00d7ff\">None</span>, <span style=\"color: #00af00; text-decoration-color: #00af00\">24</span>, <span style=\"color: #00af00; text-decoration-color: #00af00\">24</span>, <span style=\"color: #00af00; text-decoration-color: #00af00\">64</span>)     │        <span style=\"color: #00af00; text-decoration-color: #00af00\">18,496</span> │\n",
       "├─────────────────────────────────┼────────────────────────┼───────────────┤\n",
       "│ conv2d_11 (<span style=\"color: #0087ff; text-decoration-color: #0087ff\">Conv2D</span>)              │ (<span style=\"color: #00d7ff; text-decoration-color: #00d7ff\">None</span>, <span style=\"color: #00af00; text-decoration-color: #00af00\">24</span>, <span style=\"color: #00af00; text-decoration-color: #00af00\">24</span>, <span style=\"color: #00af00; text-decoration-color: #00af00\">64</span>)     │        <span style=\"color: #00af00; text-decoration-color: #00af00\">36,928</span> │\n",
       "├─────────────────────────────────┼────────────────────────┼───────────────┤\n",
       "│ max_pooling2d_5 (<span style=\"color: #0087ff; text-decoration-color: #0087ff\">MaxPooling2D</span>)  │ (<span style=\"color: #00d7ff; text-decoration-color: #00d7ff\">None</span>, <span style=\"color: #00af00; text-decoration-color: #00af00\">12</span>, <span style=\"color: #00af00; text-decoration-color: #00af00\">12</span>, <span style=\"color: #00af00; text-decoration-color: #00af00\">64</span>)     │             <span style=\"color: #00af00; text-decoration-color: #00af00\">0</span> │\n",
       "├─────────────────────────────────┼────────────────────────┼───────────────┤\n",
       "│ conv2d_12 (<span style=\"color: #0087ff; text-decoration-color: #0087ff\">Conv2D</span>)              │ (<span style=\"color: #00d7ff; text-decoration-color: #00d7ff\">None</span>, <span style=\"color: #00af00; text-decoration-color: #00af00\">12</span>, <span style=\"color: #00af00; text-decoration-color: #00af00\">12</span>, <span style=\"color: #00af00; text-decoration-color: #00af00\">96</span>)     │        <span style=\"color: #00af00; text-decoration-color: #00af00\">55,392</span> │\n",
       "├─────────────────────────────────┼────────────────────────┼───────────────┤\n",
       "│ conv2d_13 (<span style=\"color: #0087ff; text-decoration-color: #0087ff\">Conv2D</span>)              │ (<span style=\"color: #00d7ff; text-decoration-color: #00d7ff\">None</span>, <span style=\"color: #00af00; text-decoration-color: #00af00\">12</span>, <span style=\"color: #00af00; text-decoration-color: #00af00\">12</span>, <span style=\"color: #00af00; text-decoration-color: #00af00\">96</span>)     │        <span style=\"color: #00af00; text-decoration-color: #00af00\">83,040</span> │\n",
       "├─────────────────────────────────┼────────────────────────┼───────────────┤\n",
       "│ max_pooling2d_6 (<span style=\"color: #0087ff; text-decoration-color: #0087ff\">MaxPooling2D</span>)  │ (<span style=\"color: #00d7ff; text-decoration-color: #00d7ff\">None</span>, <span style=\"color: #00af00; text-decoration-color: #00af00\">6</span>, <span style=\"color: #00af00; text-decoration-color: #00af00\">6</span>, <span style=\"color: #00af00; text-decoration-color: #00af00\">96</span>)       │             <span style=\"color: #00af00; text-decoration-color: #00af00\">0</span> │\n",
       "├─────────────────────────────────┼────────────────────────┼───────────────┤\n",
       "│ conv2d_14 (<span style=\"color: #0087ff; text-decoration-color: #0087ff\">Conv2D</span>)              │ (<span style=\"color: #00d7ff; text-decoration-color: #00d7ff\">None</span>, <span style=\"color: #00af00; text-decoration-color: #00af00\">6</span>, <span style=\"color: #00af00; text-decoration-color: #00af00\">6</span>, <span style=\"color: #00af00; text-decoration-color: #00af00\">128</span>)      │       <span style=\"color: #00af00; text-decoration-color: #00af00\">110,720</span> │\n",
       "├─────────────────────────────────┼────────────────────────┼───────────────┤\n",
       "│ conv2d_15 (<span style=\"color: #0087ff; text-decoration-color: #0087ff\">Conv2D</span>)              │ (<span style=\"color: #00d7ff; text-decoration-color: #00d7ff\">None</span>, <span style=\"color: #00af00; text-decoration-color: #00af00\">6</span>, <span style=\"color: #00af00; text-decoration-color: #00af00\">6</span>, <span style=\"color: #00af00; text-decoration-color: #00af00\">128</span>)      │       <span style=\"color: #00af00; text-decoration-color: #00af00\">147,584</span> │\n",
       "├─────────────────────────────────┼────────────────────────┼───────────────┤\n",
       "│ max_pooling2d_7 (<span style=\"color: #0087ff; text-decoration-color: #0087ff\">MaxPooling2D</span>)  │ (<span style=\"color: #00d7ff; text-decoration-color: #00d7ff\">None</span>, <span style=\"color: #00af00; text-decoration-color: #00af00\">3</span>, <span style=\"color: #00af00; text-decoration-color: #00af00\">3</span>, <span style=\"color: #00af00; text-decoration-color: #00af00\">128</span>)      │             <span style=\"color: #00af00; text-decoration-color: #00af00\">0</span> │\n",
       "├─────────────────────────────────┼────────────────────────┼───────────────┤\n",
       "│ flatten_1 (<span style=\"color: #0087ff; text-decoration-color: #0087ff\">Flatten</span>)             │ (<span style=\"color: #00d7ff; text-decoration-color: #00d7ff\">None</span>, <span style=\"color: #00af00; text-decoration-color: #00af00\">1152</span>)           │             <span style=\"color: #00af00; text-decoration-color: #00af00\">0</span> │\n",
       "├─────────────────────────────────┼────────────────────────┼───────────────┤\n",
       "│ dense (<span style=\"color: #0087ff; text-decoration-color: #0087ff\">Dense</span>)                   │ (<span style=\"color: #00d7ff; text-decoration-color: #00d7ff\">None</span>, <span style=\"color: #00af00; text-decoration-color: #00af00\">64</span>)             │        <span style=\"color: #00af00; text-decoration-color: #00af00\">73,792</span> │\n",
       "├─────────────────────────────────┼────────────────────────┼───────────────┤\n",
       "│ dropout (<span style=\"color: #0087ff; text-decoration-color: #0087ff\">Dropout</span>)               │ (<span style=\"color: #00d7ff; text-decoration-color: #00d7ff\">None</span>, <span style=\"color: #00af00; text-decoration-color: #00af00\">64</span>)             │             <span style=\"color: #00af00; text-decoration-color: #00af00\">0</span> │\n",
       "├─────────────────────────────────┼────────────────────────┼───────────────┤\n",
       "│ dense_1 (<span style=\"color: #0087ff; text-decoration-color: #0087ff\">Dense</span>)                 │ (<span style=\"color: #00d7ff; text-decoration-color: #00d7ff\">None</span>, <span style=\"color: #00af00; text-decoration-color: #00af00\">7</span>)              │           <span style=\"color: #00af00; text-decoration-color: #00af00\">455</span> │\n",
       "└─────────────────────────────────┴────────────────────────┴───────────────┘\n",
       "</pre>\n"
      ],
      "text/plain": [
       "┏━━━━━━━━━━━━━━━━━━━━━━━━━━━━━━━━━┳━━━━━━━━━━━━━━━━━━━━━━━━┳━━━━━━━━━━━━━━━┓\n",
       "┃\u001b[1m \u001b[0m\u001b[1mLayer (type)                   \u001b[0m\u001b[1m \u001b[0m┃\u001b[1m \u001b[0m\u001b[1mOutput Shape          \u001b[0m\u001b[1m \u001b[0m┃\u001b[1m \u001b[0m\u001b[1m      Param #\u001b[0m\u001b[1m \u001b[0m┃\n",
       "┡━━━━━━━━━━━━━━━━━━━━━━━━━━━━━━━━━╇━━━━━━━━━━━━━━━━━━━━━━━━╇━━━━━━━━━━━━━━━┩\n",
       "│ conv2d_8 (\u001b[38;5;33mConv2D\u001b[0m)               │ (\u001b[38;5;45mNone\u001b[0m, \u001b[38;5;34m48\u001b[0m, \u001b[38;5;34m48\u001b[0m, \u001b[38;5;34m32\u001b[0m)     │           \u001b[38;5;34m320\u001b[0m │\n",
       "├─────────────────────────────────┼────────────────────────┼───────────────┤\n",
       "│ conv2d_9 (\u001b[38;5;33mConv2D\u001b[0m)               │ (\u001b[38;5;45mNone\u001b[0m, \u001b[38;5;34m48\u001b[0m, \u001b[38;5;34m48\u001b[0m, \u001b[38;5;34m32\u001b[0m)     │         \u001b[38;5;34m9,248\u001b[0m │\n",
       "├─────────────────────────────────┼────────────────────────┼───────────────┤\n",
       "│ max_pooling2d_4 (\u001b[38;5;33mMaxPooling2D\u001b[0m)  │ (\u001b[38;5;45mNone\u001b[0m, \u001b[38;5;34m24\u001b[0m, \u001b[38;5;34m24\u001b[0m, \u001b[38;5;34m32\u001b[0m)     │             \u001b[38;5;34m0\u001b[0m │\n",
       "├─────────────────────────────────┼────────────────────────┼───────────────┤\n",
       "│ conv2d_10 (\u001b[38;5;33mConv2D\u001b[0m)              │ (\u001b[38;5;45mNone\u001b[0m, \u001b[38;5;34m24\u001b[0m, \u001b[38;5;34m24\u001b[0m, \u001b[38;5;34m64\u001b[0m)     │        \u001b[38;5;34m18,496\u001b[0m │\n",
       "├─────────────────────────────────┼────────────────────────┼───────────────┤\n",
       "│ conv2d_11 (\u001b[38;5;33mConv2D\u001b[0m)              │ (\u001b[38;5;45mNone\u001b[0m, \u001b[38;5;34m24\u001b[0m, \u001b[38;5;34m24\u001b[0m, \u001b[38;5;34m64\u001b[0m)     │        \u001b[38;5;34m36,928\u001b[0m │\n",
       "├─────────────────────────────────┼────────────────────────┼───────────────┤\n",
       "│ max_pooling2d_5 (\u001b[38;5;33mMaxPooling2D\u001b[0m)  │ (\u001b[38;5;45mNone\u001b[0m, \u001b[38;5;34m12\u001b[0m, \u001b[38;5;34m12\u001b[0m, \u001b[38;5;34m64\u001b[0m)     │             \u001b[38;5;34m0\u001b[0m │\n",
       "├─────────────────────────────────┼────────────────────────┼───────────────┤\n",
       "│ conv2d_12 (\u001b[38;5;33mConv2D\u001b[0m)              │ (\u001b[38;5;45mNone\u001b[0m, \u001b[38;5;34m12\u001b[0m, \u001b[38;5;34m12\u001b[0m, \u001b[38;5;34m96\u001b[0m)     │        \u001b[38;5;34m55,392\u001b[0m │\n",
       "├─────────────────────────────────┼────────────────────────┼───────────────┤\n",
       "│ conv2d_13 (\u001b[38;5;33mConv2D\u001b[0m)              │ (\u001b[38;5;45mNone\u001b[0m, \u001b[38;5;34m12\u001b[0m, \u001b[38;5;34m12\u001b[0m, \u001b[38;5;34m96\u001b[0m)     │        \u001b[38;5;34m83,040\u001b[0m │\n",
       "├─────────────────────────────────┼────────────────────────┼───────────────┤\n",
       "│ max_pooling2d_6 (\u001b[38;5;33mMaxPooling2D\u001b[0m)  │ (\u001b[38;5;45mNone\u001b[0m, \u001b[38;5;34m6\u001b[0m, \u001b[38;5;34m6\u001b[0m, \u001b[38;5;34m96\u001b[0m)       │             \u001b[38;5;34m0\u001b[0m │\n",
       "├─────────────────────────────────┼────────────────────────┼───────────────┤\n",
       "│ conv2d_14 (\u001b[38;5;33mConv2D\u001b[0m)              │ (\u001b[38;5;45mNone\u001b[0m, \u001b[38;5;34m6\u001b[0m, \u001b[38;5;34m6\u001b[0m, \u001b[38;5;34m128\u001b[0m)      │       \u001b[38;5;34m110,720\u001b[0m │\n",
       "├─────────────────────────────────┼────────────────────────┼───────────────┤\n",
       "│ conv2d_15 (\u001b[38;5;33mConv2D\u001b[0m)              │ (\u001b[38;5;45mNone\u001b[0m, \u001b[38;5;34m6\u001b[0m, \u001b[38;5;34m6\u001b[0m, \u001b[38;5;34m128\u001b[0m)      │       \u001b[38;5;34m147,584\u001b[0m │\n",
       "├─────────────────────────────────┼────────────────────────┼───────────────┤\n",
       "│ max_pooling2d_7 (\u001b[38;5;33mMaxPooling2D\u001b[0m)  │ (\u001b[38;5;45mNone\u001b[0m, \u001b[38;5;34m3\u001b[0m, \u001b[38;5;34m3\u001b[0m, \u001b[38;5;34m128\u001b[0m)      │             \u001b[38;5;34m0\u001b[0m │\n",
       "├─────────────────────────────────┼────────────────────────┼───────────────┤\n",
       "│ flatten_1 (\u001b[38;5;33mFlatten\u001b[0m)             │ (\u001b[38;5;45mNone\u001b[0m, \u001b[38;5;34m1152\u001b[0m)           │             \u001b[38;5;34m0\u001b[0m │\n",
       "├─────────────────────────────────┼────────────────────────┼───────────────┤\n",
       "│ dense (\u001b[38;5;33mDense\u001b[0m)                   │ (\u001b[38;5;45mNone\u001b[0m, \u001b[38;5;34m64\u001b[0m)             │        \u001b[38;5;34m73,792\u001b[0m │\n",
       "├─────────────────────────────────┼────────────────────────┼───────────────┤\n",
       "│ dropout (\u001b[38;5;33mDropout\u001b[0m)               │ (\u001b[38;5;45mNone\u001b[0m, \u001b[38;5;34m64\u001b[0m)             │             \u001b[38;5;34m0\u001b[0m │\n",
       "├─────────────────────────────────┼────────────────────────┼───────────────┤\n",
       "│ dense_1 (\u001b[38;5;33mDense\u001b[0m)                 │ (\u001b[38;5;45mNone\u001b[0m, \u001b[38;5;34m7\u001b[0m)              │           \u001b[38;5;34m455\u001b[0m │\n",
       "└─────────────────────────────────┴────────────────────────┴───────────────┘\n"
      ]
     },
     "metadata": {},
     "output_type": "display_data"
    },
    {
     "data": {
      "text/html": [
       "<pre style=\"white-space:pre;overflow-x:auto;line-height:normal;font-family:Menlo,'DejaVu Sans Mono',consolas,'Courier New',monospace\"><span style=\"font-weight: bold\"> Total params: </span><span style=\"color: #00af00; text-decoration-color: #00af00\">535,975</span> (2.04 MB)\n",
       "</pre>\n"
      ],
      "text/plain": [
       "\u001b[1m Total params: \u001b[0m\u001b[38;5;34m535,975\u001b[0m (2.04 MB)\n"
      ]
     },
     "metadata": {},
     "output_type": "display_data"
    },
    {
     "data": {
      "text/html": [
       "<pre style=\"white-space:pre;overflow-x:auto;line-height:normal;font-family:Menlo,'DejaVu Sans Mono',consolas,'Courier New',monospace\"><span style=\"font-weight: bold\"> Trainable params: </span><span style=\"color: #00af00; text-decoration-color: #00af00\">535,975</span> (2.04 MB)\n",
       "</pre>\n"
      ],
      "text/plain": [
       "\u001b[1m Trainable params: \u001b[0m\u001b[38;5;34m535,975\u001b[0m (2.04 MB)\n"
      ]
     },
     "metadata": {},
     "output_type": "display_data"
    },
    {
     "data": {
      "text/html": [
       "<pre style=\"white-space:pre;overflow-x:auto;line-height:normal;font-family:Menlo,'DejaVu Sans Mono',consolas,'Courier New',monospace\"><span style=\"font-weight: bold\"> Non-trainable params: </span><span style=\"color: #00af00; text-decoration-color: #00af00\">0</span> (0.00 B)\n",
       "</pre>\n"
      ],
      "text/plain": [
       "\u001b[1m Non-trainable params: \u001b[0m\u001b[38;5;34m0\u001b[0m (0.00 B)\n"
      ]
     },
     "metadata": {},
     "output_type": "display_data"
    },
    {
     "name": "stdout",
     "output_type": "stream",
     "text": [
      "None\n",
      "Epoch 1/100\n"
     ]
    },
    {
     "name": "stderr",
     "output_type": "stream",
     "text": [
      "c:\\Users\\borja\\AppData\\Local\\Programs\\Python\\Python311\\Lib\\site-packages\\keras\\src\\trainers\\data_adapters\\py_dataset_adapter.py:121: UserWarning: Your `PyDataset` class should call `super().__init__(**kwargs)` in its constructor. `**kwargs` can include `workers`, `use_multiprocessing`, `max_queue_size`. Do not pass these arguments to `fit()`, as they will be ignored.\n",
      "  self._warn_if_super_not_called()\n"
     ]
    },
    {
     "name": "stdout",
     "output_type": "stream",
     "text": [
      "224/224 - 28s - 125ms/step - accuracy: 0.2417 - loss: 1.8233 - val_accuracy: 0.2493 - val_loss: 1.7885 - learning_rate: 1.0000e-03\n",
      "Epoch 2/100\n"
     ]
    },
    {
     "name": "stderr",
     "output_type": "stream",
     "text": [
      "c:\\Users\\borja\\AppData\\Local\\Programs\\Python\\Python311\\Lib\\site-packages\\keras\\src\\callbacks\\callback_list.py:145: UserWarning: Learning rate reduction is conditioned on metric `val_acc` which is not available. Available metrics are: accuracy,loss,val_accuracy,val_loss,learning_rate.\n",
      "  callback.on_epoch_end(epoch, logs)\n",
      "c:\\Users\\borja\\AppData\\Local\\Programs\\Python\\Python311\\Lib\\site-packages\\keras\\src\\trainers\\epoch_iterator.py:107: UserWarning: Your input ran out of data; interrupting training. Make sure that your dataset or generator can generate at least `steps_per_epoch * epochs` batches. You may need to use the `.repeat()` function when building your dataset.\n",
      "  self._interrupted_warning()\n"
     ]
    },
    {
     "name": "stdout",
     "output_type": "stream",
     "text": [
      "224/224 - 1s - 6ms/step - accuracy: 0.2969 - loss: 1.7661 - val_accuracy: 0.2493 - val_loss: 1.7869 - learning_rate: 1.0000e-03\n",
      "Epoch 3/100\n",
      "224/224 - 27s - 119ms/step - accuracy: 0.2742 - loss: 1.7544 - val_accuracy: 0.3418 - val_loss: 1.6573 - learning_rate: 1.0000e-03\n",
      "Epoch 4/100\n",
      "224/224 - 1s - 7ms/step - accuracy: 0.3750 - loss: 1.5981 - val_accuracy: 0.3490 - val_loss: 1.6652 - learning_rate: 1.0000e-03\n",
      "Epoch 5/100\n",
      "224/224 - 27s - 120ms/step - accuracy: 0.3667 - loss: 1.6052 - val_accuracy: 0.4153 - val_loss: 1.4818 - learning_rate: 1.0000e-03\n",
      "Epoch 6/100\n",
      "224/224 - 1s - 6ms/step - accuracy: 0.4844 - loss: 1.3955 - val_accuracy: 0.4198 - val_loss: 1.4750 - learning_rate: 1.0000e-03\n",
      "Epoch 7/100\n",
      "224/224 - 35s - 155ms/step - accuracy: 0.4306 - loss: 1.4712 - val_accuracy: 0.4813 - val_loss: 1.3401 - learning_rate: 1.0000e-03\n",
      "Epoch 8/100\n",
      "224/224 - 2s - 10ms/step - accuracy: 0.4062 - loss: 1.4907 - val_accuracy: 0.4825 - val_loss: 1.3415 - learning_rate: 1.0000e-03\n",
      "Epoch 9/100\n",
      "224/224 - 41s - 181ms/step - accuracy: 0.4751 - loss: 1.3627 - val_accuracy: 0.5053 - val_loss: 1.2767 - learning_rate: 1.0000e-03\n",
      "Epoch 10/100\n",
      "224/224 - 2s - 10ms/step - accuracy: 0.4766 - loss: 1.4101 - val_accuracy: 0.5011 - val_loss: 1.2855 - learning_rate: 1.0000e-03\n",
      "Epoch 11/100\n",
      "224/224 - 39s - 172ms/step - accuracy: 0.5140 - loss: 1.2801 - val_accuracy: 0.5351 - val_loss: 1.2146 - learning_rate: 1.0000e-03\n",
      "Epoch 12/100\n",
      "224/224 - 2s - 8ms/step - accuracy: 0.4844 - loss: 1.2751 - val_accuracy: 0.5287 - val_loss: 1.2263 - learning_rate: 1.0000e-03\n",
      "Epoch 13/100\n",
      "224/224 - 31s - 138ms/step - accuracy: 0.5401 - loss: 1.2119 - val_accuracy: 0.5401 - val_loss: 1.2064 - learning_rate: 1.0000e-03\n",
      "Epoch 14/100\n",
      "224/224 - 2s - 8ms/step - accuracy: 0.5156 - loss: 1.2528 - val_accuracy: 0.5460 - val_loss: 1.1891 - learning_rate: 1.0000e-03\n",
      "Epoch 15/100\n",
      "224/224 - 31s - 137ms/step - accuracy: 0.5567 - loss: 1.1764 - val_accuracy: 0.5499 - val_loss: 1.1908 - learning_rate: 1.0000e-03\n",
      "Epoch 16/100\n",
      "224/224 - 2s - 8ms/step - accuracy: 0.5234 - loss: 1.1442 - val_accuracy: 0.5585 - val_loss: 1.1681 - learning_rate: 1.0000e-03\n",
      "Epoch 17/100\n",
      "224/224 - 33s - 146ms/step - accuracy: 0.5707 - loss: 1.1356 - val_accuracy: 0.5702 - val_loss: 1.1332 - learning_rate: 1.0000e-03\n",
      "Epoch 18/100\n",
      "224/224 - 2s - 8ms/step - accuracy: 0.6016 - loss: 1.0224 - val_accuracy: 0.5618 - val_loss: 1.1468 - learning_rate: 1.0000e-03\n",
      "Epoch 19/100\n",
      "224/224 - 32s - 144ms/step - accuracy: 0.5845 - loss: 1.1051 - val_accuracy: 0.5604 - val_loss: 1.1357 - learning_rate: 1.0000e-03\n",
      "Epoch 20/100\n",
      "224/224 - 2s - 7ms/step - accuracy: 0.5625 - loss: 1.1978 - val_accuracy: 0.5652 - val_loss: 1.1339 - learning_rate: 1.0000e-03\n",
      "Epoch 21/100\n",
      "224/224 - 31s - 139ms/step - accuracy: 0.5961 - loss: 1.0731 - val_accuracy: 0.5766 - val_loss: 1.1294 - learning_rate: 1.0000e-03\n",
      "Epoch 22/100\n",
      "224/224 - 2s - 8ms/step - accuracy: 0.6484 - loss: 0.9664 - val_accuracy: 0.5747 - val_loss: 1.1384 - learning_rate: 1.0000e-03\n",
      "Epoch 23/100\n",
      "224/224 - 31s - 140ms/step - accuracy: 0.6052 - loss: 1.0513 - val_accuracy: 0.5894 - val_loss: 1.1032 - learning_rate: 1.0000e-03\n",
      "Epoch 24/100\n",
      "224/224 - 2s - 8ms/step - accuracy: 0.5391 - loss: 1.1589 - val_accuracy: 0.5883 - val_loss: 1.1045 - learning_rate: 1.0000e-03\n",
      "Epoch 25/100\n",
      "224/224 - 32s - 141ms/step - accuracy: 0.6128 - loss: 1.0336 - val_accuracy: 0.5808 - val_loss: 1.1064 - learning_rate: 1.0000e-03\n",
      "Epoch 26/100\n",
      "224/224 - 2s - 7ms/step - accuracy: 0.7031 - loss: 0.8315 - val_accuracy: 0.5864 - val_loss: 1.1045 - learning_rate: 1.0000e-03\n",
      "Epoch 27/100\n",
      "224/224 - 31s - 137ms/step - accuracy: 0.6248 - loss: 1.0081 - val_accuracy: 0.5883 - val_loss: 1.0847 - learning_rate: 1.0000e-03\n",
      "Epoch 28/100\n",
      "224/224 - 2s - 7ms/step - accuracy: 0.7031 - loss: 0.8696 - val_accuracy: 0.5905 - val_loss: 1.0805 - learning_rate: 1.0000e-03\n",
      "Epoch 29/100\n",
      "224/224 - 31s - 136ms/step - accuracy: 0.6299 - loss: 0.9927 - val_accuracy: 0.6008 - val_loss: 1.0833 - learning_rate: 1.0000e-03\n",
      "Epoch 30/100\n",
      "224/224 - 2s - 7ms/step - accuracy: 0.6328 - loss: 1.0185 - val_accuracy: 0.5978 - val_loss: 1.0857 - learning_rate: 1.0000e-03\n",
      "Epoch 31/100\n",
      "224/224 - 30s - 135ms/step - accuracy: 0.6347 - loss: 0.9779 - val_accuracy: 0.5936 - val_loss: 1.1168 - learning_rate: 1.0000e-03\n",
      "Epoch 32/100\n",
      "224/224 - 2s - 7ms/step - accuracy: 0.6250 - loss: 1.0109 - val_accuracy: 0.5947 - val_loss: 1.1047 - learning_rate: 1.0000e-03\n",
      "Epoch 33/100\n",
      "224/224 - 31s - 137ms/step - accuracy: 0.6395 - loss: 0.9644 - val_accuracy: 0.6058 - val_loss: 1.0802 - learning_rate: 1.0000e-03\n",
      "Epoch 34/100\n",
      "224/224 - 2s - 7ms/step - accuracy: 0.5703 - loss: 1.1137 - val_accuracy: 0.6014 - val_loss: 1.0776 - learning_rate: 1.0000e-03\n",
      "Epoch 35/100\n",
      "224/224 - 30s - 135ms/step - accuracy: 0.6453 - loss: 0.9480 - val_accuracy: 0.5955 - val_loss: 1.0745 - learning_rate: 1.0000e-03\n",
      "Epoch 36/100\n",
      "224/224 - 2s - 7ms/step - accuracy: 0.6719 - loss: 0.8577 - val_accuracy: 0.6008 - val_loss: 1.0696 - learning_rate: 1.0000e-03\n",
      "Epoch 37/100\n",
      "224/224 - 30s - 133ms/step - accuracy: 0.6535 - loss: 0.9299 - val_accuracy: 0.6145 - val_loss: 1.0612 - learning_rate: 1.0000e-03\n",
      "Epoch 38/100\n",
      "224/224 - 2s - 7ms/step - accuracy: 0.6797 - loss: 0.8545 - val_accuracy: 0.6078 - val_loss: 1.0745 - learning_rate: 1.0000e-03\n",
      "Epoch 39/100\n",
      "224/224 - 30s - 133ms/step - accuracy: 0.6591 - loss: 0.9206 - val_accuracy: 0.6167 - val_loss: 1.0683 - learning_rate: 1.0000e-03\n",
      "Epoch 40/100\n",
      "224/224 - 2s - 7ms/step - accuracy: 0.6484 - loss: 0.9502 - val_accuracy: 0.6125 - val_loss: 1.0772 - learning_rate: 1.0000e-03\n",
      "Epoch 41/100\n",
      "224/224 - 30s - 132ms/step - accuracy: 0.6660 - loss: 0.9004 - val_accuracy: 0.5978 - val_loss: 1.0885 - learning_rate: 1.0000e-03\n",
      "Epoch 42/100\n",
      "224/224 - 2s - 7ms/step - accuracy: 0.6250 - loss: 0.9647 - val_accuracy: 0.5992 - val_loss: 1.0842 - learning_rate: 1.0000e-03\n",
      "Epoch 43/100\n",
      "224/224 - 30s - 132ms/step - accuracy: 0.6694 - loss: 0.8877 - val_accuracy: 0.6100 - val_loss: 1.0681 - learning_rate: 1.0000e-03\n",
      "Epoch 44/100\n",
      "224/224 - 2s - 7ms/step - accuracy: 0.6094 - loss: 1.0159 - val_accuracy: 0.6114 - val_loss: 1.0705 - learning_rate: 1.0000e-03\n",
      "Epoch 45/100\n",
      "224/224 - 29s - 130ms/step - accuracy: 0.6729 - loss: 0.8828 - val_accuracy: 0.6153 - val_loss: 1.0722 - learning_rate: 1.0000e-03\n",
      "Epoch 46/100\n",
      "224/224 - 2s - 7ms/step - accuracy: 0.6719 - loss: 0.9314 - val_accuracy: 0.6167 - val_loss: 1.0717 - learning_rate: 1.0000e-03\n",
      "Epoch 47/100\n",
      "224/224 - 29s - 129ms/step - accuracy: 0.6778 - loss: 0.8674 - val_accuracy: 0.6036 - val_loss: 1.0758 - learning_rate: 1.0000e-03\n",
      "Epoch 48/100\n",
      "224/224 - 2s - 7ms/step - accuracy: 0.6875 - loss: 0.8650 - val_accuracy: 0.6033 - val_loss: 1.0817 - learning_rate: 1.0000e-03\n",
      "Epoch 49/100\n",
      "224/224 - 29s - 129ms/step - accuracy: 0.6802 - loss: 0.8621 - val_accuracy: 0.6075 - val_loss: 1.0885 - learning_rate: 1.0000e-03\n",
      "Epoch 50/100\n",
      "224/224 - 2s - 7ms/step - accuracy: 0.7031 - loss: 0.8719 - val_accuracy: 0.6103 - val_loss: 1.0811 - learning_rate: 1.0000e-03\n",
      "Epoch 51/100\n",
      "224/224 - 30s - 132ms/step - accuracy: 0.6907 - loss: 0.8439 - val_accuracy: 0.6201 - val_loss: 1.0816 - learning_rate: 1.0000e-03\n",
      "Epoch 52/100\n",
      "224/224 - 2s - 7ms/step - accuracy: 0.6953 - loss: 0.8240 - val_accuracy: 0.6178 - val_loss: 1.0855 - learning_rate: 1.0000e-03\n",
      "Epoch 53/100\n",
      "224/224 - 30s - 132ms/step - accuracy: 0.6892 - loss: 0.8382 - val_accuracy: 0.6114 - val_loss: 1.0821 - learning_rate: 1.0000e-03\n",
      "Epoch 54/100\n",
      "224/224 - 2s - 7ms/step - accuracy: 0.6562 - loss: 0.8873 - val_accuracy: 0.6123 - val_loss: 1.0756 - learning_rate: 1.0000e-03\n",
      "Epoch 55/100\n",
      "224/224 - 30s - 135ms/step - accuracy: 0.6946 - loss: 0.8302 - val_accuracy: 0.6084 - val_loss: 1.0920 - learning_rate: 1.0000e-03\n",
      "Epoch 56/100\n",
      "224/224 - 2s - 7ms/step - accuracy: 0.7109 - loss: 0.7931 - val_accuracy: 0.6064 - val_loss: 1.0884 - learning_rate: 1.0000e-03\n",
      "Epoch 57/100\n",
      "224/224 - 30s - 133ms/step - accuracy: 0.6962 - loss: 0.8163 - val_accuracy: 0.6287 - val_loss: 1.0561 - learning_rate: 1.0000e-03\n",
      "Epoch 58/100\n",
      "224/224 - 2s - 7ms/step - accuracy: 0.6719 - loss: 0.7743 - val_accuracy: 0.6276 - val_loss: 1.0599 - learning_rate: 1.0000e-03\n",
      "Epoch 59/100\n",
      "224/224 - 30s - 133ms/step - accuracy: 0.6994 - loss: 0.8052 - val_accuracy: 0.6150 - val_loss: 1.0991 - learning_rate: 1.0000e-03\n",
      "Epoch 60/100\n",
      "224/224 - 2s - 9ms/step - accuracy: 0.7188 - loss: 0.8694 - val_accuracy: 0.6056 - val_loss: 1.1015 - learning_rate: 1.0000e-03\n",
      "Epoch 61/100\n",
      "224/224 - 36s - 162ms/step - accuracy: 0.7029 - loss: 0.8021 - val_accuracy: 0.6070 - val_loss: 1.0932 - learning_rate: 1.0000e-03\n",
      "Epoch 62/100\n",
      "224/224 - 2s - 7ms/step - accuracy: 0.7344 - loss: 0.7809 - val_accuracy: 0.6092 - val_loss: 1.0964 - learning_rate: 1.0000e-03\n",
      "Epoch 63/100\n",
      "224/224 - 32s - 143ms/step - accuracy: 0.7067 - loss: 0.7923 - val_accuracy: 0.6145 - val_loss: 1.1117 - learning_rate: 1.0000e-03\n",
      "Epoch 64/100\n",
      "224/224 - 2s - 7ms/step - accuracy: 0.6953 - loss: 0.8822 - val_accuracy: 0.6192 - val_loss: 1.1017 - learning_rate: 1.0000e-03\n",
      "Epoch 65/100\n",
      "224/224 - 31s - 137ms/step - accuracy: 0.7109 - loss: 0.7836 - val_accuracy: 0.6123 - val_loss: 1.1141 - learning_rate: 1.0000e-03\n",
      "Epoch 66/100\n",
      "224/224 - 2s - 7ms/step - accuracy: 0.7031 - loss: 0.8357 - val_accuracy: 0.6142 - val_loss: 1.1085 - learning_rate: 1.0000e-03\n",
      "Epoch 67/100\n",
      "224/224 - 31s - 139ms/step - accuracy: 0.7128 - loss: 0.7798 - val_accuracy: 0.6128 - val_loss: 1.1544 - learning_rate: 1.0000e-03\n",
      "Epoch 68/100\n",
      "224/224 - 2s - 7ms/step - accuracy: 0.6328 - loss: 0.9551 - val_accuracy: 0.6162 - val_loss: 1.1348 - learning_rate: 1.0000e-03\n",
      "Epoch 69/100\n",
      "224/224 - 31s - 136ms/step - accuracy: 0.7167 - loss: 0.7659 - val_accuracy: 0.6164 - val_loss: 1.1534 - learning_rate: 1.0000e-03\n",
      "Epoch 70/100\n",
      "224/224 - 2s - 7ms/step - accuracy: 0.6641 - loss: 0.9182 - val_accuracy: 0.6173 - val_loss: 1.1501 - learning_rate: 1.0000e-03\n",
      "Epoch 71/100\n",
      "224/224 - 31s - 140ms/step - accuracy: 0.7193 - loss: 0.7595 - val_accuracy: 0.6184 - val_loss: 1.1535 - learning_rate: 1.0000e-03\n",
      "Epoch 72/100\n",
      "224/224 - 2s - 8ms/step - accuracy: 0.6953 - loss: 0.8172 - val_accuracy: 0.6220 - val_loss: 1.1451 - learning_rate: 1.0000e-03\n",
      "Epoch 73/100\n",
      "224/224 - 32s - 142ms/step - accuracy: 0.7261 - loss: 0.7472 - val_accuracy: 0.6201 - val_loss: 1.1714 - learning_rate: 1.0000e-03\n",
      "Epoch 74/100\n",
      "224/224 - 2s - 8ms/step - accuracy: 0.6719 - loss: 0.8835 - val_accuracy: 0.6195 - val_loss: 1.1649 - learning_rate: 1.0000e-03\n",
      "Epoch 75/100\n",
      "224/224 - 31s - 138ms/step - accuracy: 0.7244 - loss: 0.7474 - val_accuracy: 0.6084 - val_loss: 1.1633 - learning_rate: 1.0000e-03\n",
      "Epoch 76/100\n",
      "224/224 - 2s - 7ms/step - accuracy: 0.6953 - loss: 0.7761 - val_accuracy: 0.6064 - val_loss: 1.1644 - learning_rate: 1.0000e-03\n",
      "Epoch 77/100\n",
      "224/224 - 31s - 137ms/step - accuracy: 0.7269 - loss: 0.7447 - val_accuracy: 0.6251 - val_loss: 1.1132 - learning_rate: 1.0000e-03\n",
      "Epoch 78/100\n",
      "224/224 - 2s - 7ms/step - accuracy: 0.8047 - loss: 0.6062 - val_accuracy: 0.6265 - val_loss: 1.1119 - learning_rate: 1.0000e-03\n",
      "Epoch 79/100\n",
      "224/224 - 31s - 137ms/step - accuracy: 0.7328 - loss: 0.7311 - val_accuracy: 0.6187 - val_loss: 1.1574 - learning_rate: 1.0000e-03\n",
      "Epoch 80/100\n",
      "224/224 - 2s - 8ms/step - accuracy: 0.7266 - loss: 0.7064 - val_accuracy: 0.6181 - val_loss: 1.1582 - learning_rate: 1.0000e-03\n",
      "Epoch 81/100\n",
      "224/224 - 31s - 138ms/step - accuracy: 0.7327 - loss: 0.7285 - val_accuracy: 0.6223 - val_loss: 1.1509 - learning_rate: 1.0000e-03\n",
      "Epoch 82/100\n",
      "224/224 - 2s - 7ms/step - accuracy: 0.7188 - loss: 0.7571 - val_accuracy: 0.6206 - val_loss: 1.1492 - learning_rate: 1.0000e-03\n",
      "Epoch 83/100\n",
      "224/224 - 31s - 137ms/step - accuracy: 0.7283 - loss: 0.7266 - val_accuracy: 0.6256 - val_loss: 1.1610 - learning_rate: 1.0000e-03\n",
      "Epoch 84/100\n",
      "224/224 - 2s - 7ms/step - accuracy: 0.7969 - loss: 0.5357 - val_accuracy: 0.6256 - val_loss: 1.1714 - learning_rate: 1.0000e-03\n",
      "Epoch 85/100\n",
      "224/224 - 31s - 137ms/step - accuracy: 0.7418 - loss: 0.7010 - val_accuracy: 0.6159 - val_loss: 1.1658 - learning_rate: 1.0000e-03\n",
      "Epoch 86/100\n",
      "224/224 - 2s - 7ms/step - accuracy: 0.7500 - loss: 0.7394 - val_accuracy: 0.6187 - val_loss: 1.1645 - learning_rate: 1.0000e-03\n",
      "Epoch 87/100\n",
      "224/224 - 30s - 133ms/step - accuracy: 0.7432 - loss: 0.7018 - val_accuracy: 0.6220 - val_loss: 1.1865 - learning_rate: 1.0000e-03\n",
      "Epoch 88/100\n",
      "224/224 - 2s - 7ms/step - accuracy: 0.6484 - loss: 0.8466 - val_accuracy: 0.6245 - val_loss: 1.1822 - learning_rate: 1.0000e-03\n",
      "Epoch 89/100\n",
      "224/224 - 32s - 143ms/step - accuracy: 0.7448 - loss: 0.7011 - val_accuracy: 0.6181 - val_loss: 1.1838 - learning_rate: 1.0000e-03\n",
      "Epoch 90/100\n",
      "224/224 - 2s - 7ms/step - accuracy: 0.7578 - loss: 0.6724 - val_accuracy: 0.6181 - val_loss: 1.1784 - learning_rate: 1.0000e-03\n",
      "Epoch 91/100\n",
      "224/224 - 30s - 132ms/step - accuracy: 0.7442 - loss: 0.6956 - val_accuracy: 0.6206 - val_loss: 1.1606 - learning_rate: 1.0000e-03\n",
      "Epoch 92/100\n",
      "224/224 - 2s - 7ms/step - accuracy: 0.7109 - loss: 0.8025 - val_accuracy: 0.6217 - val_loss: 1.1609 - learning_rate: 1.0000e-03\n",
      "Epoch 93/100\n",
      "224/224 - 31s - 138ms/step - accuracy: 0.7459 - loss: 0.6931 - val_accuracy: 0.6109 - val_loss: 1.2298 - learning_rate: 1.0000e-03\n",
      "Epoch 94/100\n",
      "224/224 - 2s - 7ms/step - accuracy: 0.7656 - loss: 0.7070 - val_accuracy: 0.6148 - val_loss: 1.2139 - learning_rate: 1.0000e-03\n",
      "Epoch 95/100\n",
      "224/224 - 30s - 136ms/step - accuracy: 0.7491 - loss: 0.6841 - val_accuracy: 0.6153 - val_loss: 1.2682 - learning_rate: 1.0000e-03\n",
      "Epoch 96/100\n",
      "224/224 - 2s - 7ms/step - accuracy: 0.7656 - loss: 0.6831 - val_accuracy: 0.6187 - val_loss: 1.2597 - learning_rate: 1.0000e-03\n",
      "Epoch 97/100\n",
      "224/224 - 30s - 135ms/step - accuracy: 0.7492 - loss: 0.6762 - val_accuracy: 0.6201 - val_loss: 1.1844 - learning_rate: 1.0000e-03\n",
      "Epoch 98/100\n",
      "224/224 - 2s - 7ms/step - accuracy: 0.7734 - loss: 0.6183 - val_accuracy: 0.6248 - val_loss: 1.1750 - learning_rate: 1.0000e-03\n",
      "Epoch 99/100\n",
      "224/224 - 30s - 132ms/step - accuracy: 0.7550 - loss: 0.6714 - val_accuracy: 0.6139 - val_loss: 1.2034 - learning_rate: 1.0000e-03\n",
      "Epoch 100/100\n",
      "224/224 - 2s - 7ms/step - accuracy: 0.6953 - loss: 0.8383 - val_accuracy: 0.6217 - val_loss: 1.1956 - learning_rate: 1.0000e-03\n"
     ]
    }
   ],
   "source": [
    "from tensorflow.keras import backend as K\n",
    "\n",
    "# Definir Swish Activation\n",
    "def swish_activation(x):\n",
    "    return K.sigmoid(x) * x\n",
    "\n",
    "# Reformatear X_train y X_crossval a (None, 48, 48, 1)\n",
    "X_train = X_train.reshape(-1, 48, 48, 1)\n",
    "X_crossval = X_crossval.reshape(-1, 48, 48, 1)\n",
    "\n",
    "# Definir el modelo\n",
    "model = Sequential()\n",
    "\n",
    "# Cambiar input_shape a (48, 48, 1)\n",
    "model.add(Conv2D(32, (3, 3), activation='relu', padding=\"same\", input_shape=(48, 48, 1)))\n",
    "model.add(Conv2D(32, (3, 3), padding=\"same\", activation='relu'))\n",
    "model.add(MaxPooling2D(pool_size=(2, 2)))\n",
    "\n",
    "model.add(Conv2D(64, (3, 3), activation='relu', padding=\"same\"))\n",
    "model.add(Conv2D(64, (3, 3), padding=\"same\", activation='relu'))\n",
    "model.add(MaxPooling2D(pool_size=(2, 2)))\n",
    "\n",
    "model.add(Conv2D(96, (3, 3), dilation_rate=(2, 2), activation='relu', padding=\"same\"))\n",
    "model.add(Conv2D(96, (3, 3), padding=\"same\", activation='relu'))  # Corregido\n",
    "model.add(MaxPooling2D(pool_size=(2, 2)))\n",
    "\n",
    "model.add(Conv2D(128, (3, 3), dilation_rate=(2, 2), activation='relu', padding=\"same\"))\n",
    "model.add(Conv2D(128, (3, 3), padding=\"same\", activation='relu'))  # Corregido\n",
    "model.add(MaxPooling2D(pool_size=(2, 2)))\n",
    "\n",
    "model.add(Flatten())\n",
    "model.add(Dense(64, activation=swish_activation))\n",
    "model.add(Dropout(0.4))\n",
    "model.add(Dense(7, activation='softmax'))  # Cambio de 'sigmoid' a 'softmax'\n",
    "\n",
    "# Compilación con categorical_crossentropy para clasificación multiclase\n",
    "model.compile(loss='categorical_crossentropy',\n",
    "              optimizer=Adam(),\n",
    "              metrics=['accuracy'])\n",
    "\n",
    "# Mostrar resumen del modelo\n",
    "print(model.summary())\n",
    "\n",
    "# Entrenamiento con fit\n",
    "history = model.fit(datagen.flow(X_train, Y_train, batch_size=batch_size),\n",
    "                    steps_per_epoch=X_train.shape[0] // batch_size,\n",
    "                    callbacks=[lr_reduce],\n",
    "                    validation_data=(X_crossval, Y_crossval),\n",
    "                    epochs=epochs, verbose=2)\n"
   ]
  },
  {
   "cell_type": "code",
   "execution_count": 26,
   "metadata": {},
   "outputs": [],
   "source": [
    "weights = model.get_weights() "
   ]
  },
  {
   "cell_type": "code",
   "execution_count": 27,
   "metadata": {},
   "outputs": [
    {
     "name": "stderr",
     "output_type": "stream",
     "text": [
      "WARNING:absl:You are saving your model as an HDF5 file via `model.save()` or `keras.saving.save_model(model)`. This file format is considered legacy. We recommend using instead the native Keras format, e.g. `model.save('my_model.keras')` or `keras.saving.save_model(model, 'my_model.keras')`. \n"
     ]
    }
   ],
   "source": [
    "model.save('fer2013_v2.h5')"
   ]
  },
  {
   "cell_type": "code",
   "execution_count": 28,
   "metadata": {},
   "outputs": [
    {
     "data": {
      "image/png": "[encoded data removed]",
      "text/plain": [
       "<Figure size 640x480 with 1 Axes>"
      ]
     },
     "metadata": {},
     "output_type": "display_data"
    },
    {
     "data": {
      "image/png": "[encoded data removed]",
      "text/plain": [
       "<Figure size 640x480 with 1 Axes>"
      ]
     },
     "metadata": {},
     "output_type": "display_data"
    }
   ],
   "source": [
    "# Graficar precisión del modelo\n",
    "plt.plot(history.history['accuracy'])\n",
    "plt.plot(history.history['val_accuracy'])\n",
    "plt.title('Model Accuracy')\n",
    "plt.ylabel('Accuracy')\n",
    "plt.xlabel('Epoch')\n",
    "plt.legend(['Train', 'Test'], loc='upper left')\n",
    "plt.show()\n",
    "\n",
    "# Graficar pérdida del modelo\n",
    "plt.plot(history.history['loss'])\n",
    "plt.plot(history.history['val_loss'])\n",
    "plt.title('Model Loss')\n",
    "plt.ylabel('Loss')\n",
    "plt.xlabel('Epoch')\n",
    "plt.legend(['Train', 'Test'], loc='upper left')\n",
    "plt.show()\n"
   ]
  },
  {
   "cell_type": "code",
   "execution_count": null,
   "metadata": {},
   "outputs": [],
   "source": []
  }
 ],
 "metadata": {
  "kernelspec": {
   "display_name": "Python 3",
   "language": "python",
   "name": "python3"
  },
  "language_info": {
   "codemirror_mode": {
    "name": "ipython",
    "version": 3
   },
   "file_extension": ".py",
   "mimetype": "text/x-python",
   "name": "python",
   "nbconvert_exporter": "python",
   "pygments_lexer": "ipython3",
   "version": "3.11.0"
  }
 },
 "nbformat": 4,
 "nbformat_minor": 2
}
