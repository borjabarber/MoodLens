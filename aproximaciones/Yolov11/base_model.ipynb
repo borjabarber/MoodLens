{
 "cells": [
  {
   "cell_type": "code",
   "execution_count": null,
   "metadata": {},
   "outputs": [],
   "source": [
    "from ultralytics import YOLO\n",
    "import cv2\n",
    "\n",
    "# Cargar el modelo entrenado\n",
    "model = YOLO('best.pt')\n",
    "\n",
    "# Inicializar la cámara web (0 para la cámara predeterminada)\n",
    "cap = cv2.VideoCapture(0)\n",
    "\n",
    "while True:\n",
    "    # Capturar fotograma por fotograma\n",
    "    ret, frame = cap.read()\n",
    "    if not ret:\n",
    "        print(\"Error al capturar la imagen\")\n",
    "        break\n",
    "\n",
    "    # Realizar predicción en el fotograma\n",
    "    results = model(frame)\n",
    "\n",
    "    # Extraer las coordenadas de las cajas y las etiquetas\n",
    "    boxes = results[0].boxes  # Coordenadas de las cajas\n",
    "    labels = results[0].names  # Nombres de las etiquetas\n",
    "\n",
    "    # Dibujar las cajas y las etiquetas en el fotograma\n",
    "    for box, label in zip(boxes.xyxy, results[0].probs):\n",
    "        x1, y1, x2, y2 = map(int, box)  # Convertir a enteros\n",
    "        confidence = label.max().item()  # Confianza en la predicción\n",
    "        cv2.rectangle(frame, (x1, y1), (x2, y2), (0, 255, 0), 2)  # Dibujar la caja\n",
    "        cv2.putText(frame, f'{labels[int(label.argmax())]} {confidence:.2f}', (x1, y1-10),\n",
    "                    cv2.FONT_HERSHEY_SIMPLEX, 0.5, (0, 255, 0), 2)  # Etiqueta y confianza\n",
    "\n",
    "    # Mostrar los resultados en la ventana\n",
    "    cv2.imshow(\"Detección en tiempo real\", frame)\n",
    "\n",
    "    # Salir si presionas la tecla 'q'\n",
    "    if cv2.waitKey(1) & 0xFF == ord('q'):\n",
    "        break\n",
    "\n",
    "# Liberar la cámara y cerrar las ventanas\n",
    "cap.release()\n",
    "cv2.destroyAllWindows()\n"
   ]
  }
 ],
 "metadata": {
  "language_info": {
   "name": "python"
  }
 },
 "nbformat": 4,
 "nbformat_minor": 2
}
